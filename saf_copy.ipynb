{
 "cells": [
  {
   "cell_type": "code",
   "execution_count": 1,
   "metadata": {},
   "outputs": [],
   "source": [
    "import pandas as pd\n",
    "from datetime import datetime\n",
    "import matplotlib.pyplot as plt\n",
    "import numpy as np"
   ]
  },
  {
   "cell_type": "code",
   "execution_count": 2,
   "metadata": {},
   "outputs": [
    {
     "data": {
      "text/html": [
       "<div>\n",
       "<style scoped>\n",
       "    .dataframe tbody tr th:only-of-type {\n",
       "        vertical-align: middle;\n",
       "    }\n",
       "\n",
       "    .dataframe tbody tr th {\n",
       "        vertical-align: top;\n",
       "    }\n",
       "\n",
       "    .dataframe thead th {\n",
       "        text-align: right;\n",
       "    }\n",
       "</style>\n",
       "<table border=\"1\" class=\"dataframe\">\n",
       "  <thead>\n",
       "    <tr style=\"text-align: right;\">\n",
       "      <th></th>\n",
       "      <th>Date</th>\n",
       "      <th>Open</th>\n",
       "      <th>High</th>\n",
       "      <th>Low</th>\n",
       "      <th>Close</th>\n",
       "      <th>Volume</th>\n",
       "    </tr>\n",
       "  </thead>\n",
       "  <tbody>\n",
       "    <tr>\n",
       "      <th>0</th>\n",
       "      <td>06/23/23</td>\n",
       "      <td>17.75</td>\n",
       "      <td>17.80</td>\n",
       "      <td>17.40</td>\n",
       "      <td>17.50</td>\n",
       "      <td>9481100</td>\n",
       "    </tr>\n",
       "    <tr>\n",
       "      <th>1</th>\n",
       "      <td>06/22/23</td>\n",
       "      <td>17.00</td>\n",
       "      <td>17.80</td>\n",
       "      <td>17.00</td>\n",
       "      <td>17.45</td>\n",
       "      <td>4990500</td>\n",
       "    </tr>\n",
       "    <tr>\n",
       "      <th>2</th>\n",
       "      <td>06/21/23</td>\n",
       "      <td>16.40</td>\n",
       "      <td>17.00</td>\n",
       "      <td>16.40</td>\n",
       "      <td>16.80</td>\n",
       "      <td>2504300</td>\n",
       "    </tr>\n",
       "    <tr>\n",
       "      <th>3</th>\n",
       "      <td>06/20/23</td>\n",
       "      <td>16.10</td>\n",
       "      <td>16.50</td>\n",
       "      <td>15.90</td>\n",
       "      <td>16.25</td>\n",
       "      <td>1425100</td>\n",
       "    </tr>\n",
       "    <tr>\n",
       "      <th>4</th>\n",
       "      <td>06/19/23</td>\n",
       "      <td>15.50</td>\n",
       "      <td>16.30</td>\n",
       "      <td>15.45</td>\n",
       "      <td>16.05</td>\n",
       "      <td>477200</td>\n",
       "    </tr>\n",
       "    <tr>\n",
       "      <th>...</th>\n",
       "      <td>...</td>\n",
       "      <td>...</td>\n",
       "      <td>...</td>\n",
       "      <td>...</td>\n",
       "      <td>...</td>\n",
       "      <td>...</td>\n",
       "    </tr>\n",
       "    <tr>\n",
       "      <th>1363</th>\n",
       "      <td>01/08/18</td>\n",
       "      <td>27.50</td>\n",
       "      <td>28.25</td>\n",
       "      <td>27.50</td>\n",
       "      <td>28.00</td>\n",
       "      <td>6873500</td>\n",
       "    </tr>\n",
       "    <tr>\n",
       "      <th>1364</th>\n",
       "      <td>01/05/18</td>\n",
       "      <td>27.50</td>\n",
       "      <td>28.50</td>\n",
       "      <td>27.00</td>\n",
       "      <td>28.00</td>\n",
       "      <td>11038400</td>\n",
       "    </tr>\n",
       "    <tr>\n",
       "      <th>1365</th>\n",
       "      <td>01/04/18</td>\n",
       "      <td>26.75</td>\n",
       "      <td>27.75</td>\n",
       "      <td>26.75</td>\n",
       "      <td>27.00</td>\n",
       "      <td>8304500</td>\n",
       "    </tr>\n",
       "    <tr>\n",
       "      <th>1366</th>\n",
       "      <td>01/03/18</td>\n",
       "      <td>26.75</td>\n",
       "      <td>27.00</td>\n",
       "      <td>26.75</td>\n",
       "      <td>26.75</td>\n",
       "      <td>8347900</td>\n",
       "    </tr>\n",
       "    <tr>\n",
       "      <th>1367</th>\n",
       "      <td>01/02/18</td>\n",
       "      <td>26.75</td>\n",
       "      <td>27.00</td>\n",
       "      <td>26.75</td>\n",
       "      <td>26.75</td>\n",
       "      <td>3904800</td>\n",
       "    </tr>\n",
       "  </tbody>\n",
       "</table>\n",
       "<p>1368 rows × 6 columns</p>\n",
       "</div>"
      ],
      "text/plain": [
       "          Date   Open   High    Low   Close    Volume\n",
       "0     06/23/23  17.75  17.80  17.40   17.50   9481100\n",
       "1     06/22/23  17.00  17.80  17.00   17.45   4990500\n",
       "2     06/21/23  16.40  17.00  16.40   16.80   2504300\n",
       "3     06/20/23  16.10  16.50  15.90   16.25   1425100\n",
       "4     06/19/23  15.50  16.30  15.45   16.05    477200\n",
       "...        ...    ...    ...    ...     ...       ...\n",
       "1363  01/08/18  27.50  28.25  27.50   28.00   6873500\n",
       "1364  01/05/18  27.50  28.50  27.00   28.00  11038400\n",
       "1365  01/04/18  26.75  27.75  26.75   27.00   8304500\n",
       "1366  01/03/18  26.75  27.00  26.75   26.75   8347900\n",
       "1367  01/02/18  26.75  27.00  26.75   26.75   3904800\n",
       "\n",
       "[1368 rows x 6 columns]"
      ]
     },
     "execution_count": 2,
     "metadata": {},
     "output_type": "execute_result"
    }
   ],
   "source": [
    "df = pd.read_csv(\"SCOM.csv\")\n",
    "df"
   ]
  },
  {
   "cell_type": "code",
   "execution_count": 3,
   "metadata": {},
   "outputs": [
    {
     "data": {
      "text/html": [
       "<div>\n",
       "<style scoped>\n",
       "    .dataframe tbody tr th:only-of-type {\n",
       "        vertical-align: middle;\n",
       "    }\n",
       "\n",
       "    .dataframe tbody tr th {\n",
       "        vertical-align: top;\n",
       "    }\n",
       "\n",
       "    .dataframe thead th {\n",
       "        text-align: right;\n",
       "    }\n",
       "</style>\n",
       "<table border=\"1\" class=\"dataframe\">\n",
       "  <thead>\n",
       "    <tr style=\"text-align: right;\">\n",
       "      <th></th>\n",
       "      <th>Date</th>\n",
       "      <th>Open</th>\n",
       "      <th>High</th>\n",
       "      <th>Low</th>\n",
       "      <th>Close</th>\n",
       "      <th>Volume</th>\n",
       "    </tr>\n",
       "  </thead>\n",
       "  <tbody>\n",
       "    <tr>\n",
       "      <th>0</th>\n",
       "      <td>06/23/23</td>\n",
       "      <td>17.75</td>\n",
       "      <td>17.80</td>\n",
       "      <td>17.40</td>\n",
       "      <td>17.50</td>\n",
       "      <td>9481100</td>\n",
       "    </tr>\n",
       "    <tr>\n",
       "      <th>1</th>\n",
       "      <td>06/22/23</td>\n",
       "      <td>17.00</td>\n",
       "      <td>17.80</td>\n",
       "      <td>17.00</td>\n",
       "      <td>17.45</td>\n",
       "      <td>4990500</td>\n",
       "    </tr>\n",
       "    <tr>\n",
       "      <th>2</th>\n",
       "      <td>06/21/23</td>\n",
       "      <td>16.40</td>\n",
       "      <td>17.00</td>\n",
       "      <td>16.40</td>\n",
       "      <td>16.80</td>\n",
       "      <td>2504300</td>\n",
       "    </tr>\n",
       "    <tr>\n",
       "      <th>3</th>\n",
       "      <td>06/20/23</td>\n",
       "      <td>16.10</td>\n",
       "      <td>16.50</td>\n",
       "      <td>15.90</td>\n",
       "      <td>16.25</td>\n",
       "      <td>1425100</td>\n",
       "    </tr>\n",
       "    <tr>\n",
       "      <th>4</th>\n",
       "      <td>06/19/23</td>\n",
       "      <td>15.50</td>\n",
       "      <td>16.30</td>\n",
       "      <td>15.45</td>\n",
       "      <td>16.05</td>\n",
       "      <td>477200</td>\n",
       "    </tr>\n",
       "    <tr>\n",
       "      <th>...</th>\n",
       "      <td>...</td>\n",
       "      <td>...</td>\n",
       "      <td>...</td>\n",
       "      <td>...</td>\n",
       "      <td>...</td>\n",
       "      <td>...</td>\n",
       "    </tr>\n",
       "    <tr>\n",
       "      <th>1363</th>\n",
       "      <td>01/08/18</td>\n",
       "      <td>27.50</td>\n",
       "      <td>28.25</td>\n",
       "      <td>27.50</td>\n",
       "      <td>28.00</td>\n",
       "      <td>6873500</td>\n",
       "    </tr>\n",
       "    <tr>\n",
       "      <th>1364</th>\n",
       "      <td>01/05/18</td>\n",
       "      <td>27.50</td>\n",
       "      <td>28.50</td>\n",
       "      <td>27.00</td>\n",
       "      <td>28.00</td>\n",
       "      <td>11038400</td>\n",
       "    </tr>\n",
       "    <tr>\n",
       "      <th>1365</th>\n",
       "      <td>01/04/18</td>\n",
       "      <td>26.75</td>\n",
       "      <td>27.75</td>\n",
       "      <td>26.75</td>\n",
       "      <td>27.00</td>\n",
       "      <td>8304500</td>\n",
       "    </tr>\n",
       "    <tr>\n",
       "      <th>1366</th>\n",
       "      <td>01/03/18</td>\n",
       "      <td>26.75</td>\n",
       "      <td>27.00</td>\n",
       "      <td>26.75</td>\n",
       "      <td>26.75</td>\n",
       "      <td>8347900</td>\n",
       "    </tr>\n",
       "    <tr>\n",
       "      <th>1367</th>\n",
       "      <td>01/02/18</td>\n",
       "      <td>26.75</td>\n",
       "      <td>27.00</td>\n",
       "      <td>26.75</td>\n",
       "      <td>26.75</td>\n",
       "      <td>3904800</td>\n",
       "    </tr>\n",
       "  </tbody>\n",
       "</table>\n",
       "<p>1368 rows × 6 columns</p>\n",
       "</div>"
      ],
      "text/plain": [
       "          Date   Open   High    Low  Close    Volume\n",
       "0     06/23/23  17.75  17.80  17.40  17.50   9481100\n",
       "1     06/22/23  17.00  17.80  17.00  17.45   4990500\n",
       "2     06/21/23  16.40  17.00  16.40  16.80   2504300\n",
       "3     06/20/23  16.10  16.50  15.90  16.25   1425100\n",
       "4     06/19/23  15.50  16.30  15.45  16.05    477200\n",
       "...        ...    ...    ...    ...    ...       ...\n",
       "1363  01/08/18  27.50  28.25  27.50  28.00   6873500\n",
       "1364  01/05/18  27.50  28.50  27.00  28.00  11038400\n",
       "1365  01/04/18  26.75  27.75  26.75  27.00   8304500\n",
       "1366  01/03/18  26.75  27.00  26.75  26.75   8347900\n",
       "1367  01/02/18  26.75  27.00  26.75  26.75   3904800\n",
       "\n",
       "[1368 rows x 6 columns]"
      ]
     },
     "execution_count": 3,
     "metadata": {},
     "output_type": "execute_result"
    }
   ],
   "source": [
    "df = pd.read_csv(\"SCOM.csv\", skipinitialspace=True)\n",
    "df"
   ]
  },
  {
   "cell_type": "code",
   "execution_count": 4,
   "metadata": {},
   "outputs": [
    {
     "name": "stdout",
     "output_type": "stream",
     "text": [
      "            Date   Open   High    Low  Close    Volume\n",
      "0     2023-06-23  17.75  17.80  17.40  17.50   9481100\n",
      "1     2023-06-22  17.00  17.80  17.00  17.45   4990500\n",
      "2     2023-06-21  16.40  17.00  16.40  16.80   2504300\n",
      "3     2023-06-20  16.10  16.50  15.90  16.25   1425100\n",
      "4     2023-06-19  15.50  16.30  15.45  16.05    477200\n",
      "...          ...    ...    ...    ...    ...       ...\n",
      "1363  2018-01-08  27.50  28.25  27.50  28.00   6873500\n",
      "1364  2018-01-05  27.50  28.50  27.00  28.00  11038400\n",
      "1365  2018-01-04  26.75  27.75  26.75  27.00   8304500\n",
      "1366  2018-01-03  26.75  27.00  26.75  26.75   8347900\n",
      "1367  2018-01-02  26.75  27.00  26.75  26.75   3904800\n",
      "\n",
      "[1368 rows x 6 columns]\n"
     ]
    }
   ],
   "source": [
    "for idx, row in df.iterrows():\n",
    "    row.Date = datetime.strptime(row.Date, '%m/%d/%y').date()\n",
    "    # row.Date = row.Date.strftime(\"%Y-%m-%d\")\n",
    "    df.at[idx,\"Date\"] = row.Date\n",
    "\n",
    "print(df)"
   ]
  },
  {
   "cell_type": "code",
   "execution_count": 5,
   "metadata": {},
   "outputs": [
    {
     "data": {
      "text/plain": [
       "[<matplotlib.lines.Line2D at 0x1ba90ba1188>]"
      ]
     },
     "execution_count": 5,
     "metadata": {},
     "output_type": "execute_result"
    },
    {
     "data": {
      "image/png": "[encoded data removed]",
      "text/plain": [
       "<Figure size 432x288 with 1 Axes>"
      ]
     },
     "metadata": {
      "needs_background": "light"
     },
     "output_type": "display_data"
    }
   ],
   "source": [
    "plt.plot(df.Date, df.Close)"
   ]
  },
  {
   "cell_type": "code",
   "execution_count": 6,
   "metadata": {},
   "outputs": [
    {
     "data": {
      "text/html": [
       "<div>\n",
       "<style scoped>\n",
       "    .dataframe tbody tr th:only-of-type {\n",
       "        vertical-align: middle;\n",
       "    }\n",
       "\n",
       "    .dataframe tbody tr th {\n",
       "        vertical-align: top;\n",
       "    }\n",
       "\n",
       "    .dataframe thead th {\n",
       "        text-align: right;\n",
       "    }\n",
       "</style>\n",
       "<table border=\"1\" class=\"dataframe\">\n",
       "  <thead>\n",
       "    <tr style=\"text-align: right;\">\n",
       "      <th></th>\n",
       "      <th>Date</th>\n",
       "      <th>Open</th>\n",
       "      <th>High</th>\n",
       "      <th>Low</th>\n",
       "      <th>Close</th>\n",
       "      <th>Volume</th>\n",
       "    </tr>\n",
       "  </thead>\n",
       "  <tbody>\n",
       "    <tr>\n",
       "      <th>1367</th>\n",
       "      <td>2018-01-02</td>\n",
       "      <td>26.75</td>\n",
       "      <td>27.00</td>\n",
       "      <td>26.75</td>\n",
       "      <td>26.75</td>\n",
       "      <td>3904800</td>\n",
       "    </tr>\n",
       "    <tr>\n",
       "      <th>1366</th>\n",
       "      <td>2018-01-03</td>\n",
       "      <td>26.75</td>\n",
       "      <td>27.00</td>\n",
       "      <td>26.75</td>\n",
       "      <td>26.75</td>\n",
       "      <td>8347900</td>\n",
       "    </tr>\n",
       "    <tr>\n",
       "      <th>1365</th>\n",
       "      <td>2018-01-04</td>\n",
       "      <td>26.75</td>\n",
       "      <td>27.75</td>\n",
       "      <td>26.75</td>\n",
       "      <td>27.00</td>\n",
       "      <td>8304500</td>\n",
       "    </tr>\n",
       "    <tr>\n",
       "      <th>1364</th>\n",
       "      <td>2018-01-05</td>\n",
       "      <td>27.50</td>\n",
       "      <td>28.50</td>\n",
       "      <td>27.00</td>\n",
       "      <td>28.00</td>\n",
       "      <td>11038400</td>\n",
       "    </tr>\n",
       "    <tr>\n",
       "      <th>1363</th>\n",
       "      <td>2018-01-08</td>\n",
       "      <td>27.50</td>\n",
       "      <td>28.25</td>\n",
       "      <td>27.50</td>\n",
       "      <td>28.00</td>\n",
       "      <td>6873500</td>\n",
       "    </tr>\n",
       "    <tr>\n",
       "      <th>...</th>\n",
       "      <td>...</td>\n",
       "      <td>...</td>\n",
       "      <td>...</td>\n",
       "      <td>...</td>\n",
       "      <td>...</td>\n",
       "      <td>...</td>\n",
       "    </tr>\n",
       "    <tr>\n",
       "      <th>4</th>\n",
       "      <td>2023-06-19</td>\n",
       "      <td>15.50</td>\n",
       "      <td>16.30</td>\n",
       "      <td>15.45</td>\n",
       "      <td>16.05</td>\n",
       "      <td>477200</td>\n",
       "    </tr>\n",
       "    <tr>\n",
       "      <th>3</th>\n",
       "      <td>2023-06-20</td>\n",
       "      <td>16.10</td>\n",
       "      <td>16.50</td>\n",
       "      <td>15.90</td>\n",
       "      <td>16.25</td>\n",
       "      <td>1425100</td>\n",
       "    </tr>\n",
       "    <tr>\n",
       "      <th>2</th>\n",
       "      <td>2023-06-21</td>\n",
       "      <td>16.40</td>\n",
       "      <td>17.00</td>\n",
       "      <td>16.40</td>\n",
       "      <td>16.80</td>\n",
       "      <td>2504300</td>\n",
       "    </tr>\n",
       "    <tr>\n",
       "      <th>1</th>\n",
       "      <td>2023-06-22</td>\n",
       "      <td>17.00</td>\n",
       "      <td>17.80</td>\n",
       "      <td>17.00</td>\n",
       "      <td>17.45</td>\n",
       "      <td>4990500</td>\n",
       "    </tr>\n",
       "    <tr>\n",
       "      <th>0</th>\n",
       "      <td>2023-06-23</td>\n",
       "      <td>17.75</td>\n",
       "      <td>17.80</td>\n",
       "      <td>17.40</td>\n",
       "      <td>17.50</td>\n",
       "      <td>9481100</td>\n",
       "    </tr>\n",
       "  </tbody>\n",
       "</table>\n",
       "<p>1368 rows × 6 columns</p>\n",
       "</div>"
      ],
      "text/plain": [
       "            Date   Open   High    Low  Close    Volume\n",
       "1367  2018-01-02  26.75  27.00  26.75  26.75   3904800\n",
       "1366  2018-01-03  26.75  27.00  26.75  26.75   8347900\n",
       "1365  2018-01-04  26.75  27.75  26.75  27.00   8304500\n",
       "1364  2018-01-05  27.50  28.50  27.00  28.00  11038400\n",
       "1363  2018-01-08  27.50  28.25  27.50  28.00   6873500\n",
       "...          ...    ...    ...    ...    ...       ...\n",
       "4     2023-06-19  15.50  16.30  15.45  16.05    477200\n",
       "3     2023-06-20  16.10  16.50  15.90  16.25   1425100\n",
       "2     2023-06-21  16.40  17.00  16.40  16.80   2504300\n",
       "1     2023-06-22  17.00  17.80  17.00  17.45   4990500\n",
       "0     2023-06-23  17.75  17.80  17.40  17.50   9481100\n",
       "\n",
       "[1368 rows x 6 columns]"
      ]
     },
     "execution_count": 6,
     "metadata": {},
     "output_type": "execute_result"
    }
   ],
   "source": [
    "df = df.iloc[::-1]\n",
    "df"
   ]
  },
  {
   "cell_type": "code",
   "execution_count": 7,
   "metadata": {},
   "outputs": [
    {
     "data": {
      "text/plain": [
       "1367        NaN\n",
       "1366        NaN\n",
       "1365        NaN\n",
       "1364        NaN\n",
       "1363        NaN\n",
       "         ...   \n",
       "1271        NaN\n",
       "1270        NaN\n",
       "1269        NaN\n",
       "1268    29.3550\n",
       "1267    29.3775\n",
       "Name: Close, Length: 101, dtype: float64"
      ]
     },
     "execution_count": 7,
     "metadata": {},
     "output_type": "execute_result"
    }
   ],
   "source": [
    "ma100 = df.Close.rolling(100).mean()\n",
    "ma100.head(101)"
   ]
  },
  {
   "cell_type": "code",
   "execution_count": 8,
   "metadata": {},
   "outputs": [
    {
     "data": {
      "text/plain": [
       "1367         NaN\n",
       "1366         NaN\n",
       "1365         NaN\n",
       "1364         NaN\n",
       "1363         NaN\n",
       "          ...   \n",
       "4       22.07525\n",
       "3       22.01625\n",
       "2       21.95900\n",
       "1       21.90525\n",
       "0       21.85300\n",
       "Name: Close, Length: 1368, dtype: float64"
      ]
     },
     "execution_count": 8,
     "metadata": {},
     "output_type": "execute_result"
    }
   ],
   "source": [
    "ma200 =df.Close.rolling(200).mean()\n",
    "ma200"
   ]
  },
  {
   "cell_type": "code",
   "execution_count": 9,
   "metadata": {},
   "outputs": [
    {
     "data": {
      "text/plain": [
       "[<matplotlib.lines.Line2D at 0x1ba90c69f08>]"
      ]
     },
     "execution_count": 9,
     "metadata": {},
     "output_type": "execute_result"
    },
    {
     "data": {
      "image/png": "[encoded data removed]",
      "text/plain": [
       "<Figure size 1296x432 with 1 Axes>"
      ]
     },
     "metadata": {
      "needs_background": "light"
     },
     "output_type": "display_data"
    }
   ],
   "source": [
    "plt.figure(figsize = (18,6))# Size of figure\n",
    "plt.plot(df.Date, df.Close)# actual graph of mas\n",
    "plt.plot(df.Date, ma100, \"r\")# colour\n",
    "plt.plot(df.Date, ma200, \"g\")"
   ]
  },
  {
   "cell_type": "code",
   "execution_count": 10,
   "metadata": {},
   "outputs": [
    {
     "data": {
      "text/html": [
       "<div>\n",
       "<style scoped>\n",
       "    .dataframe tbody tr th:only-of-type {\n",
       "        vertical-align: middle;\n",
       "    }\n",
       "\n",
       "    .dataframe tbody tr th {\n",
       "        vertical-align: top;\n",
       "    }\n",
       "\n",
       "    .dataframe thead th {\n",
       "        text-align: right;\n",
       "    }\n",
       "</style>\n",
       "<table border=\"1\" class=\"dataframe\">\n",
       "  <thead>\n",
       "    <tr style=\"text-align: right;\">\n",
       "      <th></th>\n",
       "      <th>index</th>\n",
       "      <th>Date</th>\n",
       "      <th>Open</th>\n",
       "      <th>High</th>\n",
       "      <th>Low</th>\n",
       "      <th>Close</th>\n",
       "      <th>Volume</th>\n",
       "    </tr>\n",
       "  </thead>\n",
       "  <tbody>\n",
       "    <tr>\n",
       "      <th>1363</th>\n",
       "      <td>4</td>\n",
       "      <td>2023-06-19</td>\n",
       "      <td>15.50</td>\n",
       "      <td>16.3</td>\n",
       "      <td>15.45</td>\n",
       "      <td>16.05</td>\n",
       "      <td>477200</td>\n",
       "    </tr>\n",
       "    <tr>\n",
       "      <th>1364</th>\n",
       "      <td>3</td>\n",
       "      <td>2023-06-20</td>\n",
       "      <td>16.10</td>\n",
       "      <td>16.5</td>\n",
       "      <td>15.90</td>\n",
       "      <td>16.25</td>\n",
       "      <td>1425100</td>\n",
       "    </tr>\n",
       "    <tr>\n",
       "      <th>1365</th>\n",
       "      <td>2</td>\n",
       "      <td>2023-06-21</td>\n",
       "      <td>16.40</td>\n",
       "      <td>17.0</td>\n",
       "      <td>16.40</td>\n",
       "      <td>16.80</td>\n",
       "      <td>2504300</td>\n",
       "    </tr>\n",
       "    <tr>\n",
       "      <th>1366</th>\n",
       "      <td>1</td>\n",
       "      <td>2023-06-22</td>\n",
       "      <td>17.00</td>\n",
       "      <td>17.8</td>\n",
       "      <td>17.00</td>\n",
       "      <td>17.45</td>\n",
       "      <td>4990500</td>\n",
       "    </tr>\n",
       "    <tr>\n",
       "      <th>1367</th>\n",
       "      <td>0</td>\n",
       "      <td>2023-06-23</td>\n",
       "      <td>17.75</td>\n",
       "      <td>17.8</td>\n",
       "      <td>17.40</td>\n",
       "      <td>17.50</td>\n",
       "      <td>9481100</td>\n",
       "    </tr>\n",
       "  </tbody>\n",
       "</table>\n",
       "</div>"
      ],
      "text/plain": [
       "      index        Date   Open  High    Low  Close   Volume\n",
       "1363      4  2023-06-19  15.50  16.3  15.45  16.05   477200\n",
       "1364      3  2023-06-20  16.10  16.5  15.90  16.25  1425100\n",
       "1365      2  2023-06-21  16.40  17.0  16.40  16.80  2504300\n",
       "1366      1  2023-06-22  17.00  17.8  17.00  17.45  4990500\n",
       "1367      0  2023-06-23  17.75  17.8  17.40  17.50  9481100"
      ]
     },
     "execution_count": 10,
     "metadata": {},
     "output_type": "execute_result"
    }
   ],
   "source": [
    "df = df.reset_index()\n",
    "df.tail()"
   ]
  },
  {
   "cell_type": "code",
   "execution_count": 11,
   "metadata": {},
   "outputs": [
    {
     "name": "stdout",
     "output_type": "stream",
     "text": [
      "(957, 1)\n",
      "(411, 1)\n"
     ]
    }
   ],
   "source": [
    "# split into train and test\n",
    "data_train = pd.DataFrame(df[\"Close\"][0 : int(len(df) * 0.70)])\n",
    "data_test = pd.DataFrame(df[\"Close\"][int(len(df) * 0.70) : int(len(df))])\n",
    "\n",
    "print(data_train.shape)\n",
    "print(data_test.shape)"
   ]
  },
  {
   "cell_type": "code",
   "execution_count": 12,
   "metadata": {},
   "outputs": [],
   "source": [
    "from sklearn.preprocessing import MinMaxScaler"
   ]
  },
  {
   "cell_type": "code",
   "execution_count": 13,
   "metadata": {},
   "outputs": [],
   "source": [
    "scaler = MinMaxScaler(feature_range=(0,1))\n"
   ]
  },
  {
   "cell_type": "code",
   "execution_count": 20,
   "metadata": {},
   "outputs": [],
   "source": [
    "from keras.models import load_model\n",
    "model = load_model(\"saf_model\")"
   ]
  },
  {
   "cell_type": "code",
   "execution_count": 21,
   "metadata": {},
   "outputs": [],
   "source": [
    "# Append the past 100 days to testing data\n",
    "past_100_days = data_train.tail(100)\n",
    "final_df = pd.concat([past_100_days, data_test], ignore_index=True)"
   ]
  },
  {
   "cell_type": "code",
   "execution_count": 22,
   "metadata": {},
   "outputs": [
    {
     "data": {
      "text/plain": [
       "(511, 1)"
      ]
     },
     "execution_count": 22,
     "metadata": {},
     "output_type": "execute_result"
    }
   ],
   "source": [
    "# Scale down testing data\n",
    "input_data = scaler.fit_transform(final_df)\n",
    "input_data\n",
    "input_data.shape"
   ]
  },
  {
   "cell_type": "code",
   "execution_count": 23,
   "metadata": {},
   "outputs": [
    {
     "name": "stdout",
     "output_type": "stream",
     "text": [
      "(411, 100, 1)\n",
      "(411,)\n"
     ]
    }
   ],
   "source": [
    "x_test = []\n",
    "y_test = []\n",
    "\n",
    "for i in range(100, input_data.shape[0]):\n",
    "    x_test.append(input_data[i - 100: i])\n",
    "    y_test.append(input_data[i, 0])\n",
    "    \n",
    "# Convert to numpy arrays\n",
    "x_test, y_test = np.array(x_test), np.array(y_test)\n",
    "print(x_test.shape)\n",
    "print(y_test.shape)"
   ]
  },
  {
   "cell_type": "code",
   "execution_count": 24,
   "metadata": {},
   "outputs": [
    {
     "name": "stdout",
     "output_type": "stream",
     "text": [
      "(411, 1)\n",
      "[0.0312989]\n"
     ]
    },
    {
     "data": {
      "image/png": "[encoded data removed]",
      "text/plain": [
       "<Figure size 864x432 with 1 Axes>"
      ]
     },
     "metadata": {
      "needs_background": "light"
     },
     "output_type": "display_data"
    }
   ],
   "source": [
    "# Making Predictions\n",
    "y_predicted = model.predict(x_test)\n",
    "print(y_predicted.shape)\n",
    "# print(y_predicted)\n",
    "print(scaler.scale_)\n",
    "\n",
    "# scale up\n",
    "scale_factor = 1/0.02123255\n",
    "y_predicted = y_predicted * scale_factor\n",
    "y_test = y_test * scale_factor\n",
    "\n",
    "plt.figure(figsize=(12,6))\n",
    "plt.plot(y_test, \"b\", label=\"Original Price\")\n",
    "plt.plot(y_predicted, \"r\", label=\"Predicted Price\")\n",
    "plt.legend()\n",
    "plt.xlabel(\"Year\")\n",
    "plt.ylabel(\"Price\")\n",
    "plt.show()"
   ]
  },
  {
   "cell_type": "code",
   "execution_count": null,
   "metadata": {},
   "outputs": [],
   "source": []
  }
 ],
 "metadata": {
  "kernelspec": {
   "display_name": "Python 3",
   "language": "python",
   "name": "python3"
  },
  "language_info": {
   "codemirror_mode": {
    "name": "ipython",
    "version": 3
   },
   "file_extension": ".py",
   "mimetype": "text/x-python",
   "name": "python",
   "nbconvert_exporter": "python",
   "pygments_lexer": "ipython3",
   "version": "3.7.6"
  }
 },
 "nbformat": 4,
 "nbformat_minor": 4
}
