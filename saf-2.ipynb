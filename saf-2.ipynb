{
 "cells": [
  {
   "cell_type": "code",
   "execution_count": 12,
   "id": "a10d8434",
   "metadata": {},
   "outputs": [],
   "source": [
    "import numpy as np\n",
    "import pandas as pd\n",
    "import yfinance as yf\n",
    "import matplotlib.pyplot as plt\n",
    "plt.style.use(\"fivethirtyeight\")\n",
    "\n",
    "from datetime import date, datetime"
   ]
  },
  {
   "cell_type": "code",
   "execution_count": 13,
   "id": "42f2288b",
   "metadata": {},
   "outputs": [
    {
     "name": "stdout",
     "output_type": "stream",
     "text": [
      "[*********************100%***********************]  1 of 1 completed\n"
     ]
    }
   ],
   "source": [
    "# Get stock quotes\n",
    "start = \"2015-05-27\"\n",
    "end = \"2020-05-23\"\n",
    "\n",
    "df = yf.download(\"AAPL\", start, end)"
   ]
  },
  {
   "cell_type": "code",
   "execution_count": 14,
   "id": "2d80897b",
   "metadata": {},
   "outputs": [
    {
     "data": {
      "text/html": [
       "<div>\n",
       "<style scoped>\n",
       "    .dataframe tbody tr th:only-of-type {\n",
       "        vertical-align: middle;\n",
       "    }\n",
       "\n",
       "    .dataframe tbody tr th {\n",
       "        vertical-align: top;\n",
       "    }\n",
       "\n",
       "    .dataframe thead th {\n",
       "        text-align: right;\n",
       "    }\n",
       "</style>\n",
       "<table border=\"1\" class=\"dataframe\">\n",
       "  <thead>\n",
       "    <tr style=\"text-align: right;\">\n",
       "      <th></th>\n",
       "      <th>Open</th>\n",
       "      <th>High</th>\n",
       "      <th>Low</th>\n",
       "      <th>Close</th>\n",
       "      <th>Adj Close</th>\n",
       "      <th>Volume</th>\n",
       "    </tr>\n",
       "    <tr>\n",
       "      <th>Date</th>\n",
       "      <th></th>\n",
       "      <th></th>\n",
       "      <th></th>\n",
       "      <th></th>\n",
       "      <th></th>\n",
       "      <th></th>\n",
       "    </tr>\n",
       "  </thead>\n",
       "  <tbody>\n",
       "    <tr>\n",
       "      <th>2015-05-27</th>\n",
       "      <td>32.584999</td>\n",
       "      <td>33.064999</td>\n",
       "      <td>32.512501</td>\n",
       "      <td>33.009998</td>\n",
       "      <td>29.868664</td>\n",
       "      <td>183332800</td>\n",
       "    </tr>\n",
       "    <tr>\n",
       "      <th>2015-05-28</th>\n",
       "      <td>32.965000</td>\n",
       "      <td>32.987499</td>\n",
       "      <td>32.775002</td>\n",
       "      <td>32.945000</td>\n",
       "      <td>29.809860</td>\n",
       "      <td>122933200</td>\n",
       "    </tr>\n",
       "    <tr>\n",
       "      <th>2015-05-29</th>\n",
       "      <td>32.807499</td>\n",
       "      <td>32.862499</td>\n",
       "      <td>32.474998</td>\n",
       "      <td>32.570000</td>\n",
       "      <td>29.470547</td>\n",
       "      <td>203538000</td>\n",
       "    </tr>\n",
       "    <tr>\n",
       "      <th>2015-06-01</th>\n",
       "      <td>32.570000</td>\n",
       "      <td>32.847500</td>\n",
       "      <td>32.512501</td>\n",
       "      <td>32.634998</td>\n",
       "      <td>29.529352</td>\n",
       "      <td>128451200</td>\n",
       "    </tr>\n",
       "    <tr>\n",
       "      <th>2015-06-02</th>\n",
       "      <td>32.465000</td>\n",
       "      <td>32.665001</td>\n",
       "      <td>32.330002</td>\n",
       "      <td>32.490002</td>\n",
       "      <td>29.398153</td>\n",
       "      <td>134670400</td>\n",
       "    </tr>\n",
       "  </tbody>\n",
       "</table>\n",
       "</div>"
      ],
      "text/plain": [
       "                 Open       High        Low      Close  Adj Close     Volume\n",
       "Date                                                                        \n",
       "2015-05-27  32.584999  33.064999  32.512501  33.009998  29.868664  183332800\n",
       "2015-05-28  32.965000  32.987499  32.775002  32.945000  29.809860  122933200\n",
       "2015-05-29  32.807499  32.862499  32.474998  32.570000  29.470547  203538000\n",
       "2015-06-01  32.570000  32.847500  32.512501  32.634998  29.529352  128451200\n",
       "2015-06-02  32.465000  32.665001  32.330002  32.490002  29.398153  134670400"
      ]
     },
     "execution_count": 14,
     "metadata": {},
     "output_type": "execute_result"
    }
   ],
   "source": [
    "df.head()"
   ]
  },
  {
   "cell_type": "code",
   "execution_count": 15,
   "id": "13388b8a",
   "metadata": {},
   "outputs": [
    {
     "data": {
      "text/html": [
       "<div>\n",
       "<style scoped>\n",
       "    .dataframe tbody tr th:only-of-type {\n",
       "        vertical-align: middle;\n",
       "    }\n",
       "\n",
       "    .dataframe tbody tr th {\n",
       "        vertical-align: top;\n",
       "    }\n",
       "\n",
       "    .dataframe thead th {\n",
       "        text-align: right;\n",
       "    }\n",
       "</style>\n",
       "<table border=\"1\" class=\"dataframe\">\n",
       "  <thead>\n",
       "    <tr style=\"text-align: right;\">\n",
       "      <th></th>\n",
       "      <th>Open</th>\n",
       "      <th>High</th>\n",
       "      <th>Low</th>\n",
       "      <th>Close</th>\n",
       "      <th>Adj Close</th>\n",
       "      <th>Volume</th>\n",
       "    </tr>\n",
       "    <tr>\n",
       "      <th>Date</th>\n",
       "      <th></th>\n",
       "      <th></th>\n",
       "      <th></th>\n",
       "      <th></th>\n",
       "      <th></th>\n",
       "      <th></th>\n",
       "    </tr>\n",
       "  </thead>\n",
       "  <tbody>\n",
       "    <tr>\n",
       "      <th>2020-05-18</th>\n",
       "      <td>78.292503</td>\n",
       "      <td>79.125000</td>\n",
       "      <td>77.580002</td>\n",
       "      <td>78.739998</td>\n",
       "      <td>77.307068</td>\n",
       "      <td>135178400</td>\n",
       "    </tr>\n",
       "    <tr>\n",
       "      <th>2020-05-19</th>\n",
       "      <td>78.757500</td>\n",
       "      <td>79.629997</td>\n",
       "      <td>78.252502</td>\n",
       "      <td>78.285004</td>\n",
       "      <td>76.860352</td>\n",
       "      <td>101729600</td>\n",
       "    </tr>\n",
       "    <tr>\n",
       "      <th>2020-05-20</th>\n",
       "      <td>79.169998</td>\n",
       "      <td>79.879997</td>\n",
       "      <td>79.129997</td>\n",
       "      <td>79.807503</td>\n",
       "      <td>78.355133</td>\n",
       "      <td>111504800</td>\n",
       "    </tr>\n",
       "    <tr>\n",
       "      <th>2020-05-21</th>\n",
       "      <td>79.665001</td>\n",
       "      <td>80.222504</td>\n",
       "      <td>78.967499</td>\n",
       "      <td>79.212502</td>\n",
       "      <td>77.770966</td>\n",
       "      <td>102688800</td>\n",
       "    </tr>\n",
       "    <tr>\n",
       "      <th>2020-05-22</th>\n",
       "      <td>78.942497</td>\n",
       "      <td>79.807503</td>\n",
       "      <td>78.837502</td>\n",
       "      <td>79.722504</td>\n",
       "      <td>78.271698</td>\n",
       "      <td>81803200</td>\n",
       "    </tr>\n",
       "  </tbody>\n",
       "</table>\n",
       "</div>"
      ],
      "text/plain": [
       "                 Open       High        Low      Close  Adj Close     Volume\n",
       "Date                                                                        \n",
       "2020-05-18  78.292503  79.125000  77.580002  78.739998  77.307068  135178400\n",
       "2020-05-19  78.757500  79.629997  78.252502  78.285004  76.860352  101729600\n",
       "2020-05-20  79.169998  79.879997  79.129997  79.807503  78.355133  111504800\n",
       "2020-05-21  79.665001  80.222504  78.967499  79.212502  77.770966  102688800\n",
       "2020-05-22  78.942497  79.807503  78.837502  79.722504  78.271698   81803200"
      ]
     },
     "execution_count": 15,
     "metadata": {},
     "output_type": "execute_result"
    }
   ],
   "source": [
    "df.tail()"
   ]
  },
  {
   "cell_type": "code",
   "execution_count": 16,
   "id": "752c8000",
   "metadata": {},
   "outputs": [
    {
     "data": {
      "text/plain": [
       "0       33.009998\n",
       "1       32.945000\n",
       "2       32.570000\n",
       "3       32.634998\n",
       "4       32.490002\n",
       "          ...    \n",
       "1253    78.739998\n",
       "1254    78.285004\n",
       "1255    79.807503\n",
       "1256    79.212502\n",
       "1257    79.722504\n",
       "Name: Close, Length: 1258, dtype: float64"
      ]
     },
     "execution_count": 16,
     "metadata": {},
     "output_type": "execute_result"
    }
   ],
   "source": [
    "df1 = df.reset_index()[\"Close\"]\n",
    "df1"
   ]
  },
  {
   "cell_type": "code",
   "execution_count": 17,
   "id": "357d34e2",
   "metadata": {},
   "outputs": [
    {
     "data": {
      "text/plain": [
       "(1258,)"
      ]
     },
     "execution_count": 17,
     "metadata": {},
     "output_type": "execute_result"
    }
   ],
   "source": [
    "df1.shape"
   ]
  },
  {
   "cell_type": "code",
   "execution_count": 19,
   "id": "8b123df8",
   "metadata": {},
   "outputs": [
    {
     "data": {
      "text/plain": [
       "[<matplotlib.lines.Line2D at 0x12f512550>]"
      ]
     },
     "execution_count": 19,
     "metadata": {},
     "output_type": "execute_result"
    },
    {
     "data": {
      "image/png": "[encoded data removed]",
      "text/plain": [
       "<Figure size 1200x600 with 1 Axes>"
      ]
     },
     "metadata": {},
     "output_type": "display_data"
    }
   ],
   "source": [
    "plt.figure(figsize=(12,6))\n",
    "plt.plot(df1)"
   ]
  },
  {
   "cell_type": "code",
   "execution_count": 20,
   "id": "6d671ec3",
   "metadata": {},
   "outputs": [],
   "source": [
    "# Apply MinMaxScaler for training\n",
    "from sklearn.preprocessing import MinMaxScaler"
   ]
  },
  {
   "cell_type": "code",
   "execution_count": 22,
   "id": "be1e5c5b",
   "metadata": {},
   "outputs": [],
   "source": [
    "scaler = MinMaxScaler(feature_range=(0,1))\n",
    "df1 = scaler.fit_transform(np.array(df1).reshape(-1,1))"
   ]
  },
  {
   "cell_type": "code",
   "execution_count": 24,
   "id": "76971f3e",
   "metadata": {},
   "outputs": [
    {
     "data": {
      "text/plain": [
       "(1258, 1)"
      ]
     },
     "execution_count": 24,
     "metadata": {},
     "output_type": "execute_result"
    }
   ],
   "source": [
    "df1.shape"
   ]
  },
  {
   "cell_type": "code",
   "execution_count": 25,
   "id": "5571451c",
   "metadata": {},
   "outputs": [],
   "source": [
    "# Split data into train and test\n",
    "training_size=int(len(df1)*0.65)\n",
    "test_size=len(df1)-training_size\n",
    "train_data,test_data=df1[0:training_size,:],df1[training_size:len(df1),:1]"
   ]
  },
  {
   "cell_type": "code",
   "execution_count": 26,
   "id": "2d24e6fc",
   "metadata": {},
   "outputs": [
    {
     "data": {
      "text/plain": [
       "(817, 441)"
      ]
     },
     "execution_count": 26,
     "metadata": {},
     "output_type": "execute_result"
    }
   ],
   "source": [
    "training_size,test_size"
   ]
  },
  {
   "cell_type": "code",
   "execution_count": 35,
   "id": "a14f923e",
   "metadata": {},
   "outputs": [],
   "source": [
    "# convert an array of values into a dataset matrix\n",
    "def create_dataset(dataset, time_step):\n",
    "\tdataX, dataY = [], []\n",
    "\tfor i in range(len(dataset)-time_step-1):\n",
    "\t\ta = dataset[i:(i+time_step), 0]   ###i=0, 0,1,2,3-----99   100 \n",
    "\t\tdataX.append(a)\n",
    "\t\tdataY.append(dataset[i + time_step, 0])\n",
    "\treturn np.array(dataX), np.array(dataY)"
   ]
  },
  {
   "cell_type": "code",
   "execution_count": 36,
   "id": "05560852",
   "metadata": {},
   "outputs": [],
   "source": [
    "time_step = 100\n",
    "x_train, y_train = create_dataset(train_data, time_step)\n",
    "x_test, y_test = create_dataset(test_data, time_step)"
   ]
  },
  {
   "cell_type": "code",
   "execution_count": 37,
   "id": "f3dd383e",
   "metadata": {},
   "outputs": [
    {
     "name": "stdout",
     "output_type": "stream",
     "text": [
      "(716, 100)\n",
      "(716,)\n"
     ]
    },
    {
     "data": {
      "text/plain": [
       "(None, None)"
      ]
     },
     "execution_count": 37,
     "metadata": {},
     "output_type": "execute_result"
    }
   ],
   "source": [
    "print(x_train.shape), print(y_train.shape)"
   ]
  },
  {
   "cell_type": "code",
   "execution_count": 38,
   "id": "580c91fe",
   "metadata": {},
   "outputs": [
    {
     "name": "stdout",
     "output_type": "stream",
     "text": [
      "(340, 100)\n",
      "(340,)\n"
     ]
    },
    {
     "data": {
      "text/plain": [
       "(None, None)"
      ]
     },
     "execution_count": 38,
     "metadata": {},
     "output_type": "execute_result"
    }
   ],
   "source": [
    "print(x_test.shape), print(y_test.shape)"
   ]
  },
  {
   "cell_type": "code",
   "execution_count": 39,
   "id": "b06dcc84",
   "metadata": {},
   "outputs": [
    {
     "name": "stdout",
     "output_type": "stream",
     "text": [
      "[[0.17605334 0.17495567 0.16862281 ... 0.09055984 0.08388922 0.09085537]\n",
      " [0.17495567 0.16862281 0.16972049 ... 0.08388922 0.09085537 0.08739341]\n",
      " [0.16862281 0.16972049 0.16727184 ... 0.09085537 0.08739341 0.09030653]\n",
      " ...\n",
      " [0.34801149 0.32930843 0.32145569 ... 0.50042215 0.50413745 0.5062062 ]\n",
      " [0.32930843 0.32145569 0.32694417 ... 0.50413745 0.5062062  0.51920967]\n",
      " [0.32145569 0.32694417 0.32230006 ... 0.5062062  0.51920967 0.53719495]]\n"
     ]
    }
   ],
   "source": [
    "print(x_train)"
   ]
  },
  {
   "cell_type": "code",
   "execution_count": 40,
   "id": "c70f7784",
   "metadata": {},
   "outputs": [],
   "source": [
    "# Reshape input as required for LSTM\n",
    "x_train = x_train.reshape(x_train.shape[0], x_train.shape[1], 1)\n",
    "x_test = x_test.reshape(x_test.shape[0], x_test.shape[1], 1)"
   ]
  },
  {
   "cell_type": "code",
   "execution_count": 41,
   "id": "514951d7",
   "metadata": {},
   "outputs": [],
   "source": [
    "# ML Model\n",
    "from keras.layers import Dense, Dropout, LSTM\n",
    "from keras.models import Sequential"
   ]
  },
  {
   "cell_type": "code",
   "execution_count": 42,
   "id": "18fd34c3",
   "metadata": {},
   "outputs": [],
   "source": [
    "model=Sequential()\n",
    "model.add(LSTM(50,return_sequences=True,input_shape=(100,1)))\n",
    "model.add(LSTM(50,return_sequences=True))\n",
    "model.add(LSTM(50))\n",
    "model.add(Dense(1))\n",
    "model.compile(loss='mean_squared_error', optimizer='adam')"
   ]
  },
  {
   "cell_type": "code",
   "execution_count": 43,
   "id": "a9b1baf9",
   "metadata": {},
   "outputs": [
    {
     "name": "stdout",
     "output_type": "stream",
     "text": [
      "Model: \"sequential\"\n",
      "_________________________________________________________________\n",
      " Layer (type)                Output Shape              Param #   \n",
      "=================================================================\n",
      " lstm (LSTM)                 (None, 100, 50)           10400     \n",
      "                                                                 \n",
      " lstm_1 (LSTM)               (None, 100, 50)           20200     \n",
      "                                                                 \n",
      " lstm_2 (LSTM)               (None, 50)                20200     \n",
      "                                                                 \n",
      " dense (Dense)               (None, 1)                 51        \n",
      "                                                                 \n",
      "=================================================================\n",
      "Total params: 50851 (198.64 KB)\n",
      "Trainable params: 50851 (198.64 KB)\n",
      "Non-trainable params: 0 (0.00 Byte)\n",
      "_________________________________________________________________\n"
     ]
    }
   ],
   "source": [
    "model.summary()"
   ]
  },
  {
   "cell_type": "code",
   "execution_count": 45,
   "id": "a80b1c35",
   "metadata": {},
   "outputs": [
    {
     "name": "stdout",
     "output_type": "stream",
     "text": [
      "Epoch 1/100\n",
      "12/12 [==============================] - 3s 116ms/step - loss: 0.0116 - val_loss: 0.0652\n",
      "Epoch 2/100\n",
      "12/12 [==============================] - 1s 80ms/step - loss: 0.0029 - val_loss: 0.0054\n",
      "Epoch 3/100\n",
      "12/12 [==============================] - 1s 82ms/step - loss: 0.0011 - val_loss: 0.0045\n",
      "Epoch 4/100\n",
      "12/12 [==============================] - 1s 81ms/step - loss: 7.9677e-04 - val_loss: 0.0041\n",
      "Epoch 5/100\n",
      "12/12 [==============================] - 1s 80ms/step - loss: 6.5321e-04 - val_loss: 0.0060\n",
      "Epoch 6/100\n",
      "12/12 [==============================] - 1s 83ms/step - loss: 6.0156e-04 - val_loss: 0.0050\n",
      "Epoch 7/100\n",
      "12/12 [==============================] - 1s 82ms/step - loss: 5.9305e-04 - val_loss: 0.0042\n",
      "Epoch 8/100\n",
      "12/12 [==============================] - 1s 84ms/step - loss: 5.7263e-04 - val_loss: 0.0056\n",
      "Epoch 9/100\n",
      "12/12 [==============================] - 1s 83ms/step - loss: 5.9294e-04 - val_loss: 0.0037\n",
      "Epoch 10/100\n",
      "12/12 [==============================] - 1s 85ms/step - loss: 5.6385e-04 - val_loss: 0.0043\n",
      "Epoch 11/100\n",
      "12/12 [==============================] - 1s 84ms/step - loss: 5.6763e-04 - val_loss: 0.0039\n",
      "Epoch 12/100\n",
      "12/12 [==============================] - 1s 82ms/step - loss: 5.5091e-04 - val_loss: 0.0034\n",
      "Epoch 13/100\n",
      "12/12 [==============================] - 1s 83ms/step - loss: 5.3832e-04 - val_loss: 0.0032\n",
      "Epoch 14/100\n",
      "12/12 [==============================] - 1s 82ms/step - loss: 5.3681e-04 - val_loss: 0.0035\n",
      "Epoch 15/100\n",
      "12/12 [==============================] - 1s 83ms/step - loss: 5.4640e-04 - val_loss: 0.0029\n",
      "Epoch 16/100\n",
      "12/12 [==============================] - 1s 83ms/step - loss: 5.1637e-04 - val_loss: 0.0029\n",
      "Epoch 17/100\n",
      "12/12 [==============================] - 1s 83ms/step - loss: 5.1166e-04 - val_loss: 0.0028\n",
      "Epoch 18/100\n",
      "12/12 [==============================] - 1s 82ms/step - loss: 5.0596e-04 - val_loss: 0.0027\n",
      "Epoch 19/100\n",
      "12/12 [==============================] - 1s 81ms/step - loss: 5.3167e-04 - val_loss: 0.0029\n",
      "Epoch 20/100\n",
      "12/12 [==============================] - 1s 86ms/step - loss: 5.0621e-04 - val_loss: 0.0037\n",
      "Epoch 21/100\n",
      "12/12 [==============================] - 1s 83ms/step - loss: 4.8954e-04 - val_loss: 0.0025\n",
      "Epoch 22/100\n",
      "12/12 [==============================] - 1s 85ms/step - loss: 4.7417e-04 - val_loss: 0.0026\n",
      "Epoch 23/100\n",
      "12/12 [==============================] - 1s 84ms/step - loss: 5.2103e-04 - val_loss: 0.0024\n",
      "Epoch 24/100\n",
      "12/12 [==============================] - 1s 83ms/step - loss: 4.9666e-04 - val_loss: 0.0027\n",
      "Epoch 25/100\n",
      "12/12 [==============================] - 1s 86ms/step - loss: 4.8554e-04 - val_loss: 0.0023\n",
      "Epoch 26/100\n",
      "12/12 [==============================] - 1s 82ms/step - loss: 4.2963e-04 - val_loss: 0.0022\n",
      "Epoch 27/100\n",
      "12/12 [==============================] - 1s 83ms/step - loss: 4.2168e-04 - val_loss: 0.0026\n",
      "Epoch 28/100\n",
      "12/12 [==============================] - 1s 82ms/step - loss: 4.8945e-04 - val_loss: 0.0022\n",
      "Epoch 29/100\n",
      "12/12 [==============================] - 1s 85ms/step - loss: 4.4937e-04 - val_loss: 0.0020\n",
      "Epoch 30/100\n",
      "12/12 [==============================] - 1s 87ms/step - loss: 4.2952e-04 - val_loss: 0.0021\n",
      "Epoch 31/100\n",
      "12/12 [==============================] - 1s 91ms/step - loss: 4.9078e-04 - val_loss: 0.0023\n",
      "Epoch 32/100\n",
      "12/12 [==============================] - 1s 85ms/step - loss: 4.4993e-04 - val_loss: 0.0019\n",
      "Epoch 33/100\n",
      "12/12 [==============================] - 1s 86ms/step - loss: 3.9634e-04 - val_loss: 0.0020\n",
      "Epoch 34/100\n",
      "12/12 [==============================] - 1s 86ms/step - loss: 3.9486e-04 - val_loss: 0.0017\n",
      "Epoch 35/100\n",
      "12/12 [==============================] - 1s 84ms/step - loss: 3.8005e-04 - val_loss: 0.0016\n",
      "Epoch 36/100\n",
      "12/12 [==============================] - 1s 85ms/step - loss: 3.6763e-04 - val_loss: 0.0019\n",
      "Epoch 37/100\n",
      "12/12 [==============================] - 1s 85ms/step - loss: 3.6316e-04 - val_loss: 0.0015\n",
      "Epoch 38/100\n",
      "12/12 [==============================] - 1s 84ms/step - loss: 3.6484e-04 - val_loss: 0.0017\n",
      "Epoch 39/100\n",
      "12/12 [==============================] - 1s 82ms/step - loss: 3.4612e-04 - val_loss: 0.0015\n",
      "Epoch 40/100\n",
      "12/12 [==============================] - 1s 82ms/step - loss: 3.7335e-04 - val_loss: 0.0014\n",
      "Epoch 41/100\n",
      "12/12 [==============================] - 1s 84ms/step - loss: 3.3658e-04 - val_loss: 0.0014\n",
      "Epoch 42/100\n",
      "12/12 [==============================] - 1s 84ms/step - loss: 3.4496e-04 - val_loss: 0.0020\n",
      "Epoch 43/100\n",
      "12/12 [==============================] - 1s 84ms/step - loss: 3.4886e-04 - val_loss: 0.0014\n",
      "Epoch 44/100\n",
      "12/12 [==============================] - 1s 105ms/step - loss: 3.3723e-04 - val_loss: 0.0013\n",
      "Epoch 45/100\n",
      "12/12 [==============================] - 1s 90ms/step - loss: 3.2862e-04 - val_loss: 0.0023\n",
      "Epoch 46/100\n",
      "12/12 [==============================] - 1s 92ms/step - loss: 3.2733e-04 - val_loss: 0.0017\n",
      "Epoch 47/100\n",
      "12/12 [==============================] - 1s 87ms/step - loss: 3.3368e-04 - val_loss: 0.0015\n",
      "Epoch 48/100\n",
      "12/12 [==============================] - 1s 83ms/step - loss: 3.1977e-04 - val_loss: 0.0022\n",
      "Epoch 49/100\n",
      "12/12 [==============================] - 1s 84ms/step - loss: 3.1595e-04 - val_loss: 0.0015\n",
      "Epoch 50/100\n",
      "12/12 [==============================] - 1s 92ms/step - loss: 2.9579e-04 - val_loss: 0.0014\n",
      "Epoch 51/100\n",
      "12/12 [==============================] - 1s 98ms/step - loss: 2.9756e-04 - val_loss: 0.0014\n",
      "Epoch 52/100\n",
      "12/12 [==============================] - 1s 91ms/step - loss: 2.8179e-04 - val_loss: 0.0014\n",
      "Epoch 53/100\n",
      "12/12 [==============================] - 1s 85ms/step - loss: 2.9390e-04 - val_loss: 0.0018\n",
      "Epoch 54/100\n",
      "12/12 [==============================] - 1s 85ms/step - loss: 2.9653e-04 - val_loss: 0.0013\n",
      "Epoch 55/100\n",
      "12/12 [==============================] - 1s 89ms/step - loss: 3.1240e-04 - val_loss: 0.0041\n",
      "Epoch 56/100\n",
      "12/12 [==============================] - 1s 88ms/step - loss: 3.3651e-04 - val_loss: 0.0020\n",
      "Epoch 57/100\n",
      "12/12 [==============================] - 1s 85ms/step - loss: 3.7618e-04 - val_loss: 0.0025\n",
      "Epoch 58/100\n",
      "12/12 [==============================] - 1s 83ms/step - loss: 2.7003e-04 - val_loss: 0.0013\n",
      "Epoch 59/100\n",
      "12/12 [==============================] - 1s 84ms/step - loss: 2.8187e-04 - val_loss: 0.0016\n",
      "Epoch 60/100\n",
      "12/12 [==============================] - 1s 82ms/step - loss: 2.7038e-04 - val_loss: 0.0014\n",
      "Epoch 61/100\n",
      "12/12 [==============================] - 1s 83ms/step - loss: 2.6255e-04 - val_loss: 0.0021\n",
      "Epoch 62/100\n",
      "12/12 [==============================] - 1s 82ms/step - loss: 2.5540e-04 - val_loss: 0.0017\n",
      "Epoch 63/100\n",
      "12/12 [==============================] - 1s 87ms/step - loss: 2.6786e-04 - val_loss: 0.0018\n",
      "Epoch 64/100\n",
      "12/12 [==============================] - 1s 89ms/step - loss: 2.3724e-04 - val_loss: 0.0019\n",
      "Epoch 65/100\n",
      "12/12 [==============================] - 1s 93ms/step - loss: 2.9587e-04 - val_loss: 0.0015\n",
      "Epoch 66/100\n",
      "12/12 [==============================] - 1s 84ms/step - loss: 2.7367e-04 - val_loss: 0.0015\n",
      "Epoch 67/100\n",
      "12/12 [==============================] - 1s 84ms/step - loss: 2.3060e-04 - val_loss: 0.0013\n",
      "Epoch 68/100\n",
      "12/12 [==============================] - 1s 83ms/step - loss: 2.2556e-04 - val_loss: 0.0019\n",
      "Epoch 69/100\n",
      "12/12 [==============================] - 1s 83ms/step - loss: 2.6249e-04 - val_loss: 0.0015\n",
      "Epoch 70/100\n",
      "12/12 [==============================] - 1s 85ms/step - loss: 3.2374e-04 - val_loss: 0.0016\n",
      "Epoch 71/100\n",
      "12/12 [==============================] - 1s 83ms/step - loss: 2.5523e-04 - val_loss: 0.0014\n",
      "Epoch 72/100\n",
      "12/12 [==============================] - 1s 83ms/step - loss: 2.4247e-04 - val_loss: 0.0015\n",
      "Epoch 73/100\n",
      "12/12 [==============================] - 1s 83ms/step - loss: 2.2094e-04 - val_loss: 0.0015\n",
      "Epoch 74/100\n",
      "12/12 [==============================] - 1s 82ms/step - loss: 2.0880e-04 - val_loss: 0.0013\n",
      "Epoch 75/100\n",
      "12/12 [==============================] - 1s 82ms/step - loss: 2.0458e-04 - val_loss: 0.0012\n",
      "Epoch 76/100\n",
      "12/12 [==============================] - 1s 84ms/step - loss: 2.0249e-04 - val_loss: 0.0012\n",
      "Epoch 77/100\n",
      "12/12 [==============================] - 1s 86ms/step - loss: 2.0984e-04 - val_loss: 0.0013\n",
      "Epoch 78/100\n",
      "12/12 [==============================] - 1s 86ms/step - loss: 1.9416e-04 - val_loss: 0.0013\n",
      "Epoch 79/100\n"
     ]
    },
    {
     "name": "stdout",
     "output_type": "stream",
     "text": [
      "12/12 [==============================] - 1s 85ms/step - loss: 1.8933e-04 - val_loss: 0.0013\n",
      "Epoch 80/100\n",
      "12/12 [==============================] - 1s 87ms/step - loss: 1.8854e-04 - val_loss: 0.0012\n",
      "Epoch 81/100\n",
      "12/12 [==============================] - 1s 86ms/step - loss: 1.9138e-04 - val_loss: 0.0014\n",
      "Epoch 82/100\n",
      "12/12 [==============================] - 1s 87ms/step - loss: 2.1151e-04 - val_loss: 0.0013\n",
      "Epoch 83/100\n",
      "12/12 [==============================] - 1s 86ms/step - loss: 1.8627e-04 - val_loss: 0.0012\n",
      "Epoch 84/100\n",
      "12/12 [==============================] - 1s 85ms/step - loss: 1.7594e-04 - val_loss: 0.0014\n",
      "Epoch 85/100\n",
      "12/12 [==============================] - 1s 88ms/step - loss: 1.9412e-04 - val_loss: 0.0012\n",
      "Epoch 86/100\n",
      "12/12 [==============================] - 1s 87ms/step - loss: 1.7956e-04 - val_loss: 0.0014\n",
      "Epoch 87/100\n",
      "12/12 [==============================] - 1s 88ms/step - loss: 1.8134e-04 - val_loss: 0.0014\n",
      "Epoch 88/100\n",
      "12/12 [==============================] - 1s 84ms/step - loss: 1.9825e-04 - val_loss: 0.0018\n",
      "Epoch 89/100\n",
      "12/12 [==============================] - 1s 88ms/step - loss: 1.7748e-04 - val_loss: 0.0014\n",
      "Epoch 90/100\n",
      "12/12 [==============================] - 1s 90ms/step - loss: 1.7812e-04 - val_loss: 0.0013\n",
      "Epoch 91/100\n",
      "12/12 [==============================] - 1s 89ms/step - loss: 1.6984e-04 - val_loss: 0.0023\n",
      "Epoch 92/100\n",
      "12/12 [==============================] - 1s 88ms/step - loss: 1.7064e-04 - val_loss: 0.0013\n",
      "Epoch 93/100\n",
      "12/12 [==============================] - 1s 89ms/step - loss: 1.8001e-04 - val_loss: 0.0012\n",
      "Epoch 94/100\n",
      "12/12 [==============================] - 1s 87ms/step - loss: 1.8093e-04 - val_loss: 0.0024\n",
      "Epoch 95/100\n",
      "12/12 [==============================] - 1s 86ms/step - loss: 1.7340e-04 - val_loss: 0.0012\n",
      "Epoch 96/100\n",
      "12/12 [==============================] - 1s 85ms/step - loss: 1.6614e-04 - val_loss: 0.0011\n",
      "Epoch 97/100\n",
      "12/12 [==============================] - 1s 86ms/step - loss: 1.5538e-04 - val_loss: 9.4422e-04\n",
      "Epoch 98/100\n",
      "12/12 [==============================] - 1s 87ms/step - loss: 1.7154e-04 - val_loss: 0.0013\n",
      "Epoch 99/100\n",
      "12/12 [==============================] - 1s 86ms/step - loss: 1.7758e-04 - val_loss: 0.0018\n",
      "Epoch 100/100\n",
      "12/12 [==============================] - 1s 91ms/step - loss: 1.8123e-04 - val_loss: 9.8938e-04\n"
     ]
    },
    {
     "data": {
      "text/plain": [
       "<keras.src.callbacks.History at 0x2961c87f0>"
      ]
     },
     "execution_count": 45,
     "metadata": {},
     "output_type": "execute_result"
    }
   ],
   "source": [
    "model.fit(x_train, y_train, validation_data=(x_test, y_test), epochs=100, batch_size=64, verbose=1)"
   ]
  },
  {
   "cell_type": "code",
   "execution_count": 46,
   "id": "4dd1d6a6",
   "metadata": {},
   "outputs": [
    {
     "name": "stdout",
     "output_type": "stream",
     "text": [
      "INFO:tensorflow:Assets written to: us_stock_model/assets\n"
     ]
    },
    {
     "name": "stderr",
     "output_type": "stream",
     "text": [
      "INFO:tensorflow:Assets written to: us_stock_model/assets\n"
     ]
    }
   ],
   "source": [
    "model.save(\"us_stock_model\")"
   ]
  },
  {
   "cell_type": "code",
   "execution_count": 47,
   "id": "234194a6",
   "metadata": {},
   "outputs": [],
   "source": [
    "# Load Model\n",
    "from keras.models import load_model\n",
    "model = load_model(\"us_stock_model\")"
   ]
  },
  {
   "cell_type": "code",
   "execution_count": 48,
   "id": "f701d840",
   "metadata": {},
   "outputs": [
    {
     "name": "stdout",
     "output_type": "stream",
     "text": [
      "23/23 [==============================] - 1s 12ms/step\n",
      "11/11 [==============================] - 0s 12ms/step\n"
     ]
    }
   ],
   "source": [
    "### Lets Do the prediction and check performance metrics\n",
    "train_predict = model.predict(x_train)\n",
    "test_predict = model.predict(x_test)"
   ]
  },
  {
   "cell_type": "code",
   "execution_count": 49,
   "id": "43ebbb91",
   "metadata": {},
   "outputs": [],
   "source": [
    "## Transform back to original form\n",
    "train_predict = scaler.inverse_transform(train_predict)\n",
    "test_predict = scaler.inverse_transform(test_predict)"
   ]
  },
  {
   "cell_type": "code",
   "execution_count": 50,
   "id": "bd274a4c",
   "metadata": {},
   "outputs": [
    {
     "data": {
      "text/plain": [
       "35.31608495454845"
      ]
     },
     "execution_count": 50,
     "metadata": {},
     "output_type": "execute_result"
    }
   ],
   "source": [
    "### Calculate RMSE performance metrics\n",
    "import math\n",
    "from sklearn.metrics import mean_squared_error\n",
    "math.sqrt(mean_squared_error(y_train,train_predict))"
   ]
  },
  {
   "cell_type": "code",
   "execution_count": 52,
   "id": "cd187d8d",
   "metadata": {},
   "outputs": [
    {
     "data": {
      "text/plain": [
       "59.0621167177876"
      ]
     },
     "execution_count": 52,
     "metadata": {},
     "output_type": "execute_result"
    }
   ],
   "source": [
    "### Test Data RMSE\n",
    "math.sqrt(mean_squared_error(y_test, test_predict))"
   ]
  },
  {
   "cell_type": "code",
   "execution_count": 58,
   "id": "cb1e0443",
   "metadata": {},
   "outputs": [
    {
     "data": {
      "image/png": "[encoded data removed]",
      "text/plain": [
       "<Figure size 640x480 with 1 Axes>"
      ]
     },
     "metadata": {},
     "output_type": "display_data"
    }
   ],
   "source": [
    "### Plotting \n",
    "# shift train predictions for plotting\n",
    "look_back=100\n",
    "trainPredictPlot = np.empty_like(df1)\n",
    "trainPredictPlot[:, :] = np.nan\n",
    "trainPredictPlot[look_back:len(train_predict)+look_back, :] = train_predict\n",
    "# shift test predictions for plotting\n",
    "testPredictPlot = np.empty_like(df1)\n",
    "testPredictPlot[:, :] = np.nan\n",
    "testPredictPlot[len(train_predict)+(look_back*2)+1:len(df1)-1, :] = test_predict\n",
    "# plot baseline and predictions\n",
    "plt.plot(scaler.inverse_transform(df1))\n",
    "plt.plot(trainPredictPlot)\n",
    "plt.plot(testPredictPlot)\n",
    "plt.show()"
   ]
  },
  {
   "cell_type": "code",
   "execution_count": 59,
   "id": "acfc1615",
   "metadata": {},
   "outputs": [
    {
     "data": {
      "text/plain": [
       "array([[        nan],\n",
       "       [        nan],\n",
       "       [        nan],\n",
       "       ...,\n",
       "       [77.33114624],\n",
       "       [78.34255219],\n",
       "       [        nan]])"
      ]
     },
     "execution_count": 59,
     "metadata": {},
     "output_type": "execute_result"
    }
   ],
   "source": [
    "testPredictPlot"
   ]
  },
  {
   "cell_type": "code",
   "execution_count": null,
   "id": "e63360e8",
   "metadata": {},
   "outputs": [],
   "source": [
    "plt.figure(figsize=(12,6))\n",
    "plt.plot(lst_output)"
   ]
  }
 ],
 "metadata": {
  "kernelspec": {
   "display_name": "Python 3 (ipykernel)",
   "language": "python",
   "name": "python3"
  },
  "language_info": {
   "codemirror_mode": {
    "name": "ipython",
    "version": 3
   },
   "file_extension": ".py",
   "mimetype": "text/x-python",
   "name": "python",
   "nbconvert_exporter": "python",
   "pygments_lexer": "ipython3",
   "version": "3.9.10"
  }
 },
 "nbformat": 4,
 "nbformat_minor": 5
}
